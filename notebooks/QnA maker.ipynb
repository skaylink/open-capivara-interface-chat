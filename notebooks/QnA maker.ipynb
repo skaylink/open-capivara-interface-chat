{
 "cells": [
  {
   "cell_type": "code",
   "execution_count": 1,
   "id": "f19e650f",
   "metadata": {},
   "outputs": [],
   "source": [
    "import os\n",
    "\n",
    "import dotenv\n",
    "dotenv.load_dotenv()\n",
    "\n",
    "import sys\n",
    "sys.path.append('..')"
   ]
  },
  {
   "cell_type": "code",
   "execution_count": 3,
   "id": "071fac6f",
   "metadata": {},
   "outputs": [],
   "source": [
    "# TODO: async\n",
    "# https://github.com/Azure/azure-sdk-for-python/blob/main/sdk/cognitivelanguage/azure-ai-language-conversations/samples/async/sample_analyze_orchestration_app_qna_response_async.py"
   ]
  },
  {
   "cell_type": "code",
   "execution_count": 2,
   "id": "9d4a4dda",
   "metadata": {},
   "outputs": [
    {
     "name": "stderr",
     "output_type": "stream",
     "text": [
      "/home/benitez/Documents/13 - Beck Et Al/CSC/CSC-bot/.venv/lib/python3.8/site-packages/botbuilder/schema/__init__.py:80: UserWarning: The Bot Framework Python SDK is being retired with final long-term support ending in November 2023, after which this repository will be archived. There will be no further feature development, with only critical security and bug fixes within this repository being undertaken. Existing bots built with this SDK will continue to function. For all new bot development we recommend that you adopt Power Virtual Agents.\n",
      "  warn(\n"
     ]
    }
   ],
   "source": [
    "from shared.bots.csc import CSCBot"
   ]
  },
  {
   "cell_type": "code",
   "execution_count": 3,
   "id": "237c61bf",
   "metadata": {},
   "outputs": [],
   "source": [
    "import os\n",
    "\n",
    "from shared.connectors import QnAConnector\n",
    "from shared.bots.csc import CSCBot\n",
    "\n",
    "qna_connector = QnAConnector(\n",
    "    endpoint = os.getenv('QNA_ENDPOINT'),\n",
    "    credential = os.getenv('QNA_CREDENTIAL'),\n",
    "    project_name = os.getenv('QNA_PROJECT'),\n",
    "    deployment_name = os.getenv('QNA_DEPLOYMENT'),\n",
    ")\n",
    "\n",
    "BOT = CSCBot(qna_connector=qna_connector)"
   ]
  },
  {
   "cell_type": "code",
   "execution_count": 6,
   "id": "d8767204",
   "metadata": {},
   "outputs": [
    {
     "name": "stdout",
     "output_type": "stream",
     "text": [
      "Q: do you think I have a good personality?\n",
      "A: You're pretty cool for a human.\n"
     ]
    }
   ],
   "source": [
    "question = \"do you think I have a good personality?\"\n",
    "worked, answer = await qna_connector.get_answers(question = question)\n",
    "print(f\"Q: {question}\")\n",
    "print(f\"A: {answer}\")"
   ]
  },
  {
   "cell_type": "code",
   "execution_count": null,
   "id": "37ce71b2",
   "metadata": {},
   "outputs": [],
   "source": []
  },
  {
   "cell_type": "code",
   "execution_count": null,
   "id": "c46d7c68",
   "metadata": {},
   "outputs": [],
   "source": []
  },
  {
   "cell_type": "code",
   "execution_count": null,
   "id": "95ffe328",
   "metadata": {},
   "outputs": [],
   "source": []
  }
 ],
 "metadata": {
  "kernelspec": {
   "display_name": "Python 3 (ipykernel)",
   "language": "python",
   "name": "python3"
  },
  "language_info": {
   "codemirror_mode": {
    "name": "ipython",
    "version": 3
   },
   "file_extension": ".py",
   "mimetype": "text/x-python",
   "name": "python",
   "nbconvert_exporter": "python",
   "pygments_lexer": "ipython3",
   "version": "3.8.10"
  }
 },
 "nbformat": 4,
 "nbformat_minor": 5
}
