{
 "cells": [
  {
   "cell_type": "code",
   "execution_count": 1,
   "id": "e165b44b",
   "metadata": {},
   "outputs": [
    {
     "name": "stdout",
     "output_type": "stream",
     "text": [
      "Collecting azure-ai-language-conversations\n",
      "  Downloading azure_ai_language_conversations-1.0.0-py3-none-any.whl (123 kB)\n",
      "\u001b[K     |████████████████████████████████| 123 kB 281 kB/s eta 0:00:01\n",
      "\u001b[?25hRequirement already satisfied: isodate<1.0.0,>=0.6.1 in /home/benitez/Documents/13 - Beck Et Al/CSC/CSC-bot/.venv/lib/python3.8/site-packages (from azure-ai-language-conversations) (0.6.1)\n",
      "Requirement already satisfied: azure-core<2.0.0,>=1.24.0 in /home/benitez/Documents/13 - Beck Et Al/CSC/CSC-bot/.venv/lib/python3.8/site-packages (from azure-ai-language-conversations) (1.26.4)\n",
      "Requirement already satisfied: six in /home/benitez/Documents/13 - Beck Et Al/CSC/CSC-bot/.venv/lib/python3.8/site-packages (from isodate<1.0.0,>=0.6.1->azure-ai-language-conversations) (1.16.0)\n",
      "Requirement already satisfied: requests>=2.18.4 in /home/benitez/Documents/13 - Beck Et Al/CSC/CSC-bot/.venv/lib/python3.8/site-packages (from azure-core<2.0.0,>=1.24.0->azure-ai-language-conversations) (2.30.0)\n",
      "Requirement already satisfied: typing-extensions>=4.3.0 in /home/benitez/Documents/13 - Beck Et Al/CSC/CSC-bot/.venv/lib/python3.8/site-packages (from azure-core<2.0.0,>=1.24.0->azure-ai-language-conversations) (4.5.0)\n",
      "Requirement already satisfied: urllib3<3,>=1.21.1 in /home/benitez/Documents/13 - Beck Et Al/CSC/CSC-bot/.venv/lib/python3.8/site-packages (from requests>=2.18.4->azure-core<2.0.0,>=1.24.0->azure-ai-language-conversations) (2.0.2)\n",
      "Requirement already satisfied: certifi>=2017.4.17 in /home/benitez/Documents/13 - Beck Et Al/CSC/CSC-bot/.venv/lib/python3.8/site-packages (from requests>=2.18.4->azure-core<2.0.0,>=1.24.0->azure-ai-language-conversations) (2023.5.7)\n",
      "Requirement already satisfied: charset-normalizer<4,>=2 in /home/benitez/Documents/13 - Beck Et Al/CSC/CSC-bot/.venv/lib/python3.8/site-packages (from requests>=2.18.4->azure-core<2.0.0,>=1.24.0->azure-ai-language-conversations) (3.1.0)\n",
      "Requirement already satisfied: idna<4,>=2.5 in /home/benitez/Documents/13 - Beck Et Al/CSC/CSC-bot/.venv/lib/python3.8/site-packages (from requests>=2.18.4->azure-core<2.0.0,>=1.24.0->azure-ai-language-conversations) (3.4)\n",
      "Installing collected packages: azure-ai-language-conversations\n",
      "Successfully installed azure-ai-language-conversations-1.0.0\n"
     ]
    }
   ],
   "source": [
    "!pip install azure-ai-language-conversations"
   ]
  },
  {
   "cell_type": "code",
   "execution_count": null,
   "id": "e16f5ed0",
   "metadata": {},
   "outputs": [],
   "source": [
    "endpoint: https://soc-bot.cognitiveservices.azure.com/language/:analyze-conversations?api-version=2022-10-01-preview"
   ]
  },
  {
   "cell_type": "code",
   "execution_count": null,
   "id": "21be676b",
   "metadata": {},
   "outputs": [],
   "source": [
    "deployment name: test-01\n",
    "    project: SOC-bot"
   ]
  }
 ],
 "metadata": {
  "kernelspec": {
   "display_name": "Python 3 (ipykernel)",
   "language": "python",
   "name": "python3"
  },
  "language_info": {
   "codemirror_mode": {
    "name": "ipython",
    "version": 3
   },
   "file_extension": ".py",
   "mimetype": "text/x-python",
   "name": "python",
   "nbconvert_exporter": "python",
   "pygments_lexer": "ipython3",
   "version": "3.8.10"
  }
 },
 "nbformat": 4,
 "nbformat_minor": 5
}
