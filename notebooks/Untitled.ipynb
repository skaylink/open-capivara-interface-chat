{
 "cells": [
  {
   "cell_type": "code",
   "execution_count": null,
   "id": "d7d46780",
   "metadata": {},
   "outputs": [],
   "source": [
    "class Question():\n",
    "    pass\n",
    "class Answer():\n",
    "    pass\n",
    "\n",
    "------\n",
    "\n",
    "class QuestionRetriever():\n",
    "    pass\n",
    "\n",
    "class AnswerEvaluator():\n",
    "    pass\n",
    "\n",
    "class QuestionAnswer():\n",
    "    # this is exactly the QnA maker service?\n",
    "    pass"
   ]
  }
 ],
 "metadata": {
  "kernelspec": {
   "display_name": "Python 3 (ipykernel)",
   "language": "python",
   "name": "python3"
  },
  "language_info": {
   "codemirror_mode": {
    "name": "ipython",
    "version": 3
   },
   "file_extension": ".py",
   "mimetype": "text/x-python",
   "name": "python",
   "nbconvert_exporter": "python",
   "pygments_lexer": "ipython3",
   "version": "3.8.10"
  }
 },
 "nbformat": 4,
 "nbformat_minor": 5
}
