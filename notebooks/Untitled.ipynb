{
 "cells": [
  {
   "cell_type": "code",
   "execution_count": 1,
   "id": "dc6f9c66",
   "metadata": {},
   "outputs": [
    {
     "data": {
      "text/plain": [
       "True"
      ]
     },
     "execution_count": 1,
     "metadata": {},
     "output_type": "execute_result"
    }
   ],
   "source": [
    "import os\n",
    "\n",
    "import dotenv\n",
    "dotenv.load_dotenv()"
   ]
  },
  {
   "cell_type": "code",
   "execution_count": 2,
   "id": "095ce2f7",
   "metadata": {},
   "outputs": [],
   "source": [
    "import os\n",
    "from azure.core.credentials import AzureKeyCredential\n",
    "from azure.ai.language.questionanswering import QuestionAnsweringClient\n",
    "from azure.ai.language.questionanswering import models as qna\n",
    "\n",
    "\n",
    "client = QuestionAnsweringClient(\n",
    "    endpoint = os.getenv('QNA_ENDPOINT'),\n",
    "    credential = AzureKeyCredential(os.getenv('QNA_CREDENTIAL')),\n",
    ")"
   ]
  },
  {
   "cell_type": "code",
   "execution_count": 3,
   "id": "7eae1288",
   "metadata": {},
   "outputs": [
    {
     "name": "stdout",
     "output_type": "stream",
     "text": [
      "Q: do you think I have a good personality?\n",
      "A: You're pretty cool for a human.\n",
      "Confidence: 1.0\n"
     ]
    }
   ],
   "source": [
    "\n",
    "\n",
    "question=\"do you think I have a good personality?\"\n",
    "output = client.get_answers(\n",
    "    question = question,\n",
    "    project_name=os.getenv('QNA_PROJECT'),\n",
    "    deployment_name=os.getenv('QNA_DEPLOYMENT')\n",
    ")\n",
    "print(f\"Q: {question}\")\n",
    "print(f\"A: {output.answers[0].answer}\")\n",
    "print(f\"Confidence: {output.answers[0].confidence}\")"
   ]
  },
  {
   "cell_type": "code",
   "execution_count": null,
   "id": "c1a7e1f0",
   "metadata": {},
   "outputs": [],
   "source": []
  },
  {
   "cell_type": "code",
   "execution_count": null,
   "id": "b3e04e52",
   "metadata": {},
   "outputs": [],
   "source": []
  },
  {
   "cell_type": "code",
   "execution_count": null,
   "id": "7fef936a",
   "metadata": {},
   "outputs": [],
   "source": []
  }
 ],
 "metadata": {
  "kernelspec": {
   "display_name": "Python 3 (ipykernel)",
   "language": "python",
   "name": "python3"
  },
  "language_info": {
   "codemirror_mode": {
    "name": "ipython",
    "version": 3
   },
   "file_extension": ".py",
   "mimetype": "text/x-python",
   "name": "python",
   "nbconvert_exporter": "python",
   "pygments_lexer": "ipython3",
   "version": "3.8.10"
  }
 },
 "nbformat": 4,
 "nbformat_minor": 5
}
